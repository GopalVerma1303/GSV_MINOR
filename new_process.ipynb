{
 "cells": [
  {
   "cell_type": "code",
   "execution_count": 4,
   "metadata": {},
   "outputs": [
    {
     "name": "stdout",
     "output_type": "stream",
     "text": [
      "User data saved to ./gen_files/User_Data_20231211_100407.csv\n"
     ]
    }
   ],
   "source": [
    "import pandas as pd\n",
    "from datetime import datetime\n",
    "\n",
    "def get_user_input():\n",
    "    # Get user input for each column\n",
    "    order_id = input(\"Enter Order ID: \") or \"Null\"\n",
    "    customer_id = input(\"Enter Customer ID: \") or \"Null\"\n",
    "    gender = input(\"Enter Gender: \") or \"Null\"\n",
    "    age = input(\"Enter Age: \") or \"Null\"\n",
    "    status = input(\"Enter Status: \") or \"Null\"\n",
    "    channel = input(\"Enter Channel: \") or \"Null\"\n",
    "    sku = input(\"Enter SKU: \") or \"Null\"\n",
    "    category = input(\"Enter Category: \") or \"Null\"\n",
    "    size = input(\"Enter Size: \") or \"Null\"\n",
    "    quantity = input(\"Enter Quantity: \") or \"Null\"\n",
    "    currency = input(\"Enter Currency: \") or \"Null\"\n",
    "    amount = input(\"Enter Amount: \") or \"Null\"\n",
    "    ship_city = input(\"Enter Ship City: \") or \"Null\"\n",
    "    ship_state = input(\"Enter Ship State: \") or \"Null\"\n",
    "    ship_postal_code = input(\"Enter Ship Postal Code: \") or \"Null\"\n",
    "\n",
    "    # Create a dictionary with user input\n",
    "    user_data = {\n",
    "        'Order ID': [order_id],\n",
    "        'Customer ID': [customer_id],\n",
    "        'Gender': [gender],\n",
    "        'Age': [age],\n",
    "        'Status': [status],\n",
    "        'Channel': [channel],\n",
    "        'SKU': [sku],\n",
    "        'Category': [category],\n",
    "        'Size': [size],\n",
    "        'Quantity': [quantity],\n",
    "        'Currency': [currency],\n",
    "        'Amount': [amount],\n",
    "        'Ship City': [ship_city],\n",
    "        'Ship State': [ship_state],\n",
    "        'Ship Postal Code': [ship_postal_code]\n",
    "    }\n",
    "\n",
    "    # Convert the dictionary to a DataFrame\n",
    "    user_df = pd.DataFrame(user_data)\n",
    "\n",
    "    return user_df\n",
    "\n",
    "def save_user_data(user_df):\n",
    "    # Save the user input data to a new CSV file with a timestamp\n",
    "    timestamp = datetime.now().strftime(\"%Y%m%d_%H%M%S\")\n",
    "    output_file_path = f'./gen_files/User_Data_{timestamp}.csv'\n",
    "    user_df.to_csv(output_file_path, index=False)\n",
    "    print(\"User data saved to\", output_file_path)\n",
    "\n",
    "if __name__ == \"__main__\":\n",
    "    # Get user input\n",
    "    user_input = get_user_input()\n",
    "\n",
    "    # Save the user input data\n",
    "    save_user_data(user_input)\n"
   ]
  },
  {
   "cell_type": "code",
   "execution_count": null,
   "metadata": {},
   "outputs": [],
   "source": []
  }
 ],
 "metadata": {
  "kernelspec": {
   "display_name": "llama",
   "language": "python",
   "name": "python3"
  },
  "language_info": {
   "codemirror_mode": {
    "name": "ipython",
    "version": 3
   },
   "file_extension": ".py",
   "mimetype": "text/x-python",
   "name": "python",
   "nbconvert_exporter": "python",
   "pygments_lexer": "ipython3",
   "version": "3.10.9"
  }
 },
 "nbformat": 4,
 "nbformat_minor": 2
}
